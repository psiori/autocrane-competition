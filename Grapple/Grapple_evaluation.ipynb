{
 "cells": [
  {
   "cell_type": "markdown",
   "metadata": {},
   "source": [
    "# Grapple Competition Evaluation \n",
    "\n",
    "Notebook for the evaluation of the grapple competition. \n",
    "\n",
    "Hint:\n",
    "* You can test your model by using the data \"data/Grapple/test\". \n",
    "* Before submitting: Please make sure that the evaluation-notebook works with your files.\n",
    "* The bounding box is loaded in the form 'ymin, xmin, ymax, xmax'."
   ]
  },
  {
   "cell_type": "code",
   "execution_count": null,
   "metadata": {},
   "outputs": [],
   "source": [
    "path_to_images = '/data/Grapple/val/images'\n",
    "path_to_labels = '/data/Grapple/val/annotations'\n",
    "full_path_to_model = 'Models/EvaluationModel/grapple.h5'"
   ]
  },
  {
   "cell_type": "code",
   "execution_count": null,
   "metadata": {},
   "outputs": [],
   "source": [
    "from processing import Processing \n",
    "from grapple_evaluation_helper import DataLoader, ValidationHelper\n",
    "import tensorflow  as tf"
   ]
  },
  {
   "cell_type": "code",
   "execution_count": null,
   "metadata": {},
   "outputs": [],
   "source": [
    "validation_helper = ValidationHelper()\n",
    "processing = Processing()"
   ]
  },
  {
   "cell_type": "code",
   "execution_count": null,
   "metadata": {},
   "outputs": [],
   "source": [
    "### load validation data ###\n",
    "x, y = DataLoader().load_data_from_files(path_to_images,path_to_labels)"
   ]
  },
  {
   "cell_type": "code",
   "execution_count": null,
   "metadata": {},
   "outputs": [],
   "source": [
    "#### load your model ####\n",
    "grapple_model = tf.keras.models.load_model(full_path_to_model)"
   ]
  },
  {
   "cell_type": "code",
   "execution_count": null,
   "metadata": {},
   "outputs": [],
   "source": [
    "### run your preprocessing method\n",
    "x = processing.preprocessing(x)"
   ]
  },
  {
   "cell_type": "code",
   "execution_count": null,
   "metadata": {},
   "outputs": [],
   "source": [
    "predicted = grapple_model.predict(x)"
   ]
  },
  {
   "cell_type": "code",
   "execution_count": null,
   "metadata": {},
   "outputs": [],
   "source": [
    "### run your postprocessing method\n",
    "predicted =  processing.postprocessing(predicted)"
   ]
  },
  {
   "cell_type": "code",
   "execution_count": null,
   "metadata": {},
   "outputs": [],
   "source": [
    "#### evaluate encoded data #####\n",
    "final_score =  validation_helper.evaluate(y,predicted)\n",
    "print(final_score)"
   ]
  }
 ],
 "metadata": {
  "kernelspec": {
   "display_name": "Python 3",
   "language": "python",
   "name": "python3"
  },
  "language_info": {
   "codemirror_mode": {
    "name": "ipython",
    "version": 3
   },
   "file_extension": ".py",
   "mimetype": "text/x-python",
   "name": "python",
   "nbconvert_exporter": "python",
   "pygments_lexer": "ipython3",
   "version": "3.7.6"
  }
 },
 "nbformat": 4,
 "nbformat_minor": 4
}
